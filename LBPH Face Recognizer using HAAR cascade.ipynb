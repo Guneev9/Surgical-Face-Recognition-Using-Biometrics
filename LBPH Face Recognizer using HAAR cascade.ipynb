{
 "cells": [
  {
   "cell_type": "code",
   "execution_count": 1,
   "metadata": {
    "collapsed": true
   },
   "outputs": [],
   "source": [
    "# Import the required modules\n",
    "import cv2, os\n",
    "\n",
    "import numpy as np\n",
    "\n",
    "from PIL import Image"
   ]
  },
  {
   "cell_type": "code",
   "execution_count": 2,
   "metadata": {
    "collapsed": false
   },
   "outputs": [
    {
     "name": "stdout",
     "output_type": "stream",
     "text": [
      "/Users/guneevkaur/anaconda/pkgs/opencv-2.4.11-py27_1/share/OpenCV/haarcascades/haarcascade_frontalface_alt.xml\r\n"
     ]
    }
   ],
   "source": [
    "%ls /Users/guneevkaur/anaconda/pkgs/opencv-2.4.11-py27_1/share/OpenCV/haarcascades/haarcascade_frontalface_alt.xml"
   ]
  },
  {
   "cell_type": "code",
   "execution_count": 3,
   "metadata": {
    "collapsed": true
   },
   "outputs": [],
   "source": [
    "# For face detection we will use the Haar Cascade provided by OpenCV.\n",
    "cascadePath = \"/Users/guneevkaur/anaconda/pkgs/opencv-2.4.11-py27_1/share/OpenCV/haarcascades/haarcascade_frontalface_alt.xml\"\n",
    "\n",
    "#cascadePath=\"/Users/guneevkaur/anaconda/pkgs/opencv-2.4.11-py27_1/share/OpenCV/lbpcascades/lbpcascade_frontalface.xml\"\n",
    "faceCascade = cv2.CascadeClassifier(cascadePath)"
   ]
  },
  {
   "cell_type": "code",
   "execution_count": 4,
   "metadata": {
    "collapsed": false
   },
   "outputs": [],
   "source": [
    "# For face recognition we will the the LBPH Face Recognizer \n",
    "recognizer =cv2.face.LBPHFaceRecognizer_create()"
   ]
  },
  {
   "cell_type": "code",
   "execution_count": 5,
   "metadata": {
    "collapsed": true
   },
   "outputs": [],
   "source": [
    " def get_images_and_labels(path):\n",
    "    \n",
    "    #------STEP-1--------\n",
    "    #get the directories (one directory for each subject) in data folder\n",
    "    dirs = os.listdir(path)\n",
    "    \n",
    "    #list to hold all subject faces\n",
    "    images = []\n",
    "    #list to hold labels for all subjects\n",
    "    labels = []\n",
    "    \n",
    "    #let's go through each directory and read images within it\n",
    "    for dir_name in dirs:\n",
    "        \n",
    "        #our subject directories start with letter 's' so\n",
    "        #ignore any non-relevant directories if any\n",
    "        if not dir_name.startswith(\"s\"):\n",
    "            continue;\n",
    "            \n",
    "        #------STEP-2--------\n",
    "        #extract label number of subject from dir_name\n",
    "        #format of dir name = slabel\n",
    "        #, so removing letter 's' from dir_name will give us label\n",
    "        #print dir_name\n",
    "        label = int(dir_name.replace(\"s\", \"\"))\n",
    "        #print label\n",
    "        #build path of directory containin images for current subject subject\n",
    "        #sample subject_dir_path = \"training-data/s1\"\n",
    "        subject_dir_path = path + \"/\" + dir_name\n",
    "        \n",
    "        #get the images names that are inside the given subject directory\n",
    "        subject_images_names = os.listdir(subject_dir_path)\n",
    "        #print subject_images_names\n",
    "        #------STEP-3--------\n",
    "        #go through each image name, read image, \n",
    "        #detect face and add face to list of faces\n",
    "        for image_name in subject_images_names:\n",
    "            \n",
    "            #ignore system files like .DS_Store\n",
    "            if image_name.startswith(\".\"):\n",
    "                continue;\n",
    "            \n",
    "            \n",
    "            #build image path\n",
    "            #sample image path = training-data/s1/1.pgm\n",
    "            image_path = subject_dir_path + \"/\" + image_name\n",
    "            \n",
    "            img = cv2.imread(image_path)\n",
    "            gray = cv2.cvtColor(img, cv2.COLOR_BGR2GRAY)\n",
    "            #height, width = img.shape[:2]\n",
    "            #max_height = 300\n",
    "            #max_width = 300\n",
    "\n",
    "            # only shrink if img is bigger than required\n",
    "            #if max_height < height or max_width < width:\n",
    "            # get scaling factor\n",
    "               # scaling_factor = max_height / float(height)\n",
    "                   #if max_width/float(width) < scaling_factor:\n",
    "                    #scaling_factor = max_width / float(width)\n",
    "            # resize image\n",
    "            #img = cv2.resize(img, None, fx=scaling_factor, fy=scaling_factor, interpolation=cv2.INTER_AREA)\n",
    "\n",
    "\n",
    "            #read image\n",
    "            #display an image window to show the image \n",
    "            #cv2.imshow(\"Training on image...\", cv2.resize(image, (400, 500)))\n",
    "            #cv2.waitKey(100)\n",
    "            # Convert the image format into numpy array\n",
    "            image = np.array(gray, 'uint8')\n",
    "        # Get the label of the image\n",
    "            nbr = int(dir_name.replace(\"s\", \"\"))\n",
    "        # Detect the face in the image\n",
    "            #print image\n",
    "            faces = faceCascade.detectMultiScale(image)\n",
    "        # If face is detected, append the face to images and the label to labels\n",
    "            for (x, y, w, h) in faces:\n",
    "                images.append(image[y: y + h, x: x + w])\n",
    "                labels.append(nbr)\n",
    "                cv2.imshow(\"Adding faces to traning set...\", image[y: y + h, x: x + w])\n",
    "                cv2.waitKey(50)\n",
    "    # return the images list and labels list\n",
    "    return images, labels"
   ]
  },
  {
   "cell_type": "code",
   "execution_count": 6,
   "metadata": {
    "collapsed": false
   },
   "outputs": [
    {
     "name": "stdout",
     "output_type": "stream",
     "text": [
      "Files Deleted: 0\n"
     ]
    }
   ],
   "source": [
    "import glob, os\n",
    "\n",
    "for root, dirs, files in os.walk('/Users/guneevkaur/Desktop/datasets/training-data'):\n",
    "    i = 0\n",
    "    for file in files:\n",
    "        if file.endswith('.DS_Store'):\n",
    "            path = os.path.join(root, file)\n",
    "\n",
    "            print \"Deleting: %s\" % (path)\n",
    "\n",
    "            if os.remove(path):\n",
    "                print \"Unable to delete!\"\n",
    "            else:\n",
    "                print \"Deleted...\"\n",
    "                i += 1\n",
    "\n",
    "print \"Files Deleted: %d\" % (i)"
   ]
  },
  {
   "cell_type": "code",
   "execution_count": 7,
   "metadata": {
    "collapsed": false
   },
   "outputs": [],
   "source": [
    "# Path to the  Dataset\n",
    "path = \"/Users/guneevkaur/Desktop/datasets/training-data\"\n",
    "# Call the get_images_and_labels function and get the face images and the \n",
    "# corresponding labels\n",
    "images, labels = get_images_and_labels(path)\n",
    "cv2.destroyAllWindows()\n"
   ]
  },
  {
   "cell_type": "code",
   "execution_count": 17,
   "metadata": {
    "collapsed": false
   },
   "outputs": [],
   "source": [
    "# Perform the tranining\n",
    "recognizer.train(images, np.array(labels))"
   ]
  },
  {
   "cell_type": "markdown",
   "metadata": {
    "collapsed": false,
    "scrolled": true
   },
   "source": [
    "path=\"/Users/guneevkaur/Desktop/datasets/testing-data\"\n",
    "dirs = os.listdir(path)\n",
    "for dir_name in dirs:\n",
    "        \n",
    "        #our subject directories start with letter 's' so\n",
    "        #ignore any non-relevant directories if any\n",
    "        if not dir_name.startswith(\"s\"):\n",
    "            continue;\n",
    "        \n",
    "        subject_dir_path = path + \"/\" + dir_name\n",
    "        subject_images_names = os.listdir(subject_dir_path)\n",
    "        print subject_dir_path       \n",
    "        for image_name in subject_images_names:\n",
    "        # Read the image and convert to grayscale\n",
    "            \n",
    "            if image_name.startswith(\".\"):\n",
    "                continue;\n",
    "                \n",
    "            image_path = subject_dir_path + \"/\" + image_name   \n",
    "# Append the images with the extension .sad into image_paths\n",
    "\n",
    "            predict_image_pil = Image.open(image_path).convert('L')\n",
    "            predict_image = np.array(predict_image_pil, 'uint8')\n",
    "            faces = faceCascade.detectMultiScale(predict_image)\n",
    "            \n",
    "            for (x, y, w, h) in faces:\n",
    "                \n",
    "                nbr_predicted, conf = recognizer.predict(predict_image[y: y + h, x: x + w])\n",
    "                \n",
    "                nbr_actual = int(dir_name.replace(\"s\", \"\"))\n",
    "                if nbr_actual == nbr_predicted:\n",
    "                    print \"{} is Correctly Recognized with confidence {}\".format(nbr_actual, conf)\n",
    "                else:\n",
    "                    print \"{} is Incorrect Recognized as {}\".format(nbr_actual, nbr_predicted)\n",
    "                #cv2.imshow(\"Recognizing Face\", predict_image[y: y + h, x: x + w])\n",
    "                #cv2.waitKey(1000)"
   ]
  },
  {
   "cell_type": "code",
   "execution_count": 15,
   "metadata": {
    "collapsed": false
   },
   "outputs": [
    {
     "name": "stdout",
     "output_type": "stream",
     "text": [
      "Person-1 Person-6\n",
      "Person-10 Person-6\n",
      "Person-11 Person-12\n",
      "Person-12 Person-12\n",
      "Person-13 Person-17\n",
      "Person-14 Person-17\n",
      "Person-15 Person-9\n",
      "Person-16 Person-16\n",
      "Person-17 Person-21\n",
      "Person-18 Person-21\n",
      "Person-19 Person-19\n",
      "Person-2 Person-6\n",
      "Person-20 Person-23\n",
      "Person-21 Person-21\n",
      "Person-22 Person-23\n",
      "Person-23 Person-23\n",
      "Person-24 Person-23\n",
      "Person-25 Person-21\n",
      "Person-26 Person-21\n",
      "Person-27 Person-21\n",
      "Person-28 Person-8\n",
      "Person-3 Person-6\n",
      "Person-4 Person-6\n",
      "Person-6 Person-7\n",
      "Person-7 Person-6\n",
      "Person-8 Person-8\n",
      "Person-9 Person-9\n"
     ]
    }
   ],
   "source": [
    "test_data_folder_path = \"/Users/guneevkaur/Desktop/datasets/testing-data\"\n",
    "test_dirs = os.listdir(test_data_folder_path)\n",
    "test_dirs.sort()\n",
    "correct_pred = 0\n",
    "test_subjects_count = 0\n",
    "\n",
    "for directory in test_dirs:\n",
    "    if directory == '.DS_Store':\n",
    "        continue\n",
    "    #print os.path.join(test_data_folder_path, directory, \"1.png\")\n",
    "    subject_images_names = os.listdir(os.path.join(test_data_folder_path, directory))\n",
    "    subject_images_names.sort()\n",
    "    for img in subject_images_names:\n",
    "        if not img.endswith(\"1.png\"):\n",
    "            continue\n",
    "        test_img = cv2.imread(os.path.join(test_data_folder_path, directory, img))\n",
    "        #print test_img\n",
    "        gray = cv2.cvtColor(test_img, cv2.COLOR_BGR2GRAY)\n",
    "        test_label = recognizer.predict(gray)\n",
    "        print directory.replace(\"s\", \"Person-\"), \"Person-{}\".format(str(test_label[0]))\n",
    "        if directory.replace(\"s\", \"Person-\") == \"Person-{}\".format(str(test_label[0])):\n",
    "            correct_pred += 1\n",
    "        test_subjects_count += 1"
   ]
  },
  {
   "cell_type": "code",
   "execution_count": 16,
   "metadata": {
    "collapsed": false
   },
   "outputs": [
    {
     "name": "stdout",
     "output_type": "stream",
     "text": [
      "0.259259259259\n"
     ]
    }
   ],
   "source": [
    "print correct_pred*1.0/test_subjects_count"
   ]
  },
  {
   "cell_type": "code",
   "execution_count": null,
   "metadata": {
    "collapsed": true
   },
   "outputs": [],
   "source": []
  }
 ],
 "metadata": {
  "kernelspec": {
   "display_name": "Python 2",
   "language": "python",
   "name": "python2"
  },
  "language_info": {
   "codemirror_mode": {
    "name": "ipython",
    "version": 2
   },
   "file_extension": ".py",
   "mimetype": "text/x-python",
   "name": "python",
   "nbconvert_exporter": "python",
   "pygments_lexer": "ipython2",
   "version": "2.7.13"
  }
 },
 "nbformat": 4,
 "nbformat_minor": 2
}
